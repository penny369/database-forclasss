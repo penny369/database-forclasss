{
 "cells": [
  {
   "cell_type": "code",
   "execution_count": 1,
   "metadata": {},
   "outputs": [],
   "source": [
    "from fugle_realtime_restful_api import *\n",
    "from fugle_realtime import intraday\n",
    "import requests\n",
    "import configparser\n",
    "import telegram\n",
    "from telegram import InlineKeyboardMarkup, InlineKeyboardButton\n",
    "from flask import Flask, request\n",
    "from telegram.ext import Dispatcher, MessageHandler, Filters"
   ]
  },
  {
   "cell_type": "code",
   "execution_count": 2,
   "metadata": {},
   "outputs": [],
   "source": [
    "api_token = 'b0713500e58c725213f9e6badbf05bb7'"
   ]
  },
  {
   "cell_type": "code",
   "execution_count": 3,
   "metadata": {},
   "outputs": [],
   "source": [
    "app = Flask(__name__)"
   ]
  },
  {
   "cell_type": "code",
   "execution_count": 4,
   "metadata": {},
   "outputs": [
    {
     "data": {
      "text/plain": [
       "['config.ini']"
      ]
     },
     "execution_count": 4,
     "metadata": {},
     "output_type": "execute_result"
    }
   ],
   "source": [
    "config = configparser.ConfigParser()\n",
    "config.read('config.ini')"
   ]
  },
  {
   "cell_type": "code",
   "execution_count": 5,
   "metadata": {},
   "outputs": [],
   "source": [
    "# Initial bot by Telegram access token\n",
    "bot = telegram.Bot(token=config['TELEGRAM']['ACCESS_TOKEN'])"
   ]
  },
  {
   "cell_type": "code",
   "execution_count": 6,
   "metadata": {},
   "outputs": [],
   "source": [
    "import random\n",
    "from telegram.ext import Updater, CommandHandler, CallbackQueryHandler\n",
    "from telegram import InlineKeyboardMarkup, InlineKeyboardButton"
   ]
  },
  {
   "cell_type": "code",
   "execution_count": 7,
   "metadata": {},
   "outputs": [],
   "source": [
    "def abc(num):\n",
    "    b=intraday.chart(apiToken=api_token,symbolId=num,output=\"dataframe\").tail(1)\n",
    "    print(b)"
   ]
  },
  {
   "cell_type": "code",
   "execution_count": 8,
   "metadata": {},
   "outputs": [
    {
     "name": "stdout",
     "output_type": "stream",
     "text": [
      "                           at  close   high    low   open  unit  volume\n",
      "261 2020-04-09 05:30:00+00:00  18.35  18.35  18.35  18.35   820  820000\n"
     ]
    }
   ],
   "source": [
    "abc(2880)"
   ]
  },
  {
   "cell_type": "code",
   "execution_count": null,
   "metadata": {},
   "outputs": [
    {
     "name": "stderr",
     "output_type": "stream",
     "text": [
      "D:\\Anaconda\\envs\\fugle\\lib\\site-packages\\ipykernel_launcher.py:15: TelegramDeprecationWarning:\n",
      "\n",
      "Old Handler API is deprecated - see https://git.io/fxJuV for details\n",
      "\n"
     ]
    },
    {
     "name": "stdout",
     "output_type": "stream",
     "text": [
      "                           at  close   high    low   open  unit  volume\n",
      "261 2020-04-09 05:30:00+00:00  18.35  18.35  18.35  18.35   820  820000\n"
     ]
    }
   ],
   "source": [
    "import random\n",
    "from telegram.ext import Updater, CommandHandler, CallbackQueryHandler\n",
    "from telegram import InlineKeyboardMarkup, InlineKeyboardButton\n",
    "\n",
    "\n",
    "def start(bot, update):\n",
    "    update.message.reply_text('請輸入股票號碼')\n",
    "        \n",
    "def answer(bot, update):\n",
    "    text = update.message.text\n",
    "#     f = abc(text)\n",
    "    user_id = update.message.from_user.name\n",
    "    update.message.reply_text(abc(text))\n",
    "    \n",
    "updater = Updater('1171780321:AAFIJN4AQUnaNq2HPsZt7XNavcQ1_rvZMHI')\n",
    "\n",
    "updater.dispatcher.add_handler(CommandHandler('start', start))\n",
    "updater.dispatcher.add_handler(MessageHandler(Filters.text, answer))\n",
    "\n",
    "updater.start_polling()\n",
    "updater.idle()"
   ]
  },
  {
   "cell_type": "code",
   "execution_count": null,
   "metadata": {},
   "outputs": [],
   "source": []
  }
 ],
 "metadata": {
  "kernelspec": {
   "display_name": "Python 3",
   "language": "python",
   "name": "python3"
  },
  "language_info": {
   "codemirror_mode": {
    "name": "ipython",
    "version": 3
   },
   "file_extension": ".py",
   "mimetype": "text/x-python",
   "name": "python",
   "nbconvert_exporter": "python",
   "pygments_lexer": "ipython3",
   "version": "3.6.10"
  }
 },
 "nbformat": 4,
 "nbformat_minor": 4
}
