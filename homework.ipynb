{
 "cells": [
  {
   "cell_type": "code",
   "execution_count": 1,
   "metadata": {},
   "outputs": [],
   "source": [
    "import pandas as pd\n",
    "from fugle_realtime_restful_api import *\n",
    "from fugle_realtime import intraday\n",
    "import requests\n",
    "import configparser\n",
    "import telegram\n",
    "from telegram import InlineKeyboardMarkup, InlineKeyboardButton\n",
    "from flask import Flask, request\n",
    "from telegram.ext import Dispatcher, MessageHandler, Filters"
   ]
  },
  {
   "cell_type": "code",
   "execution_count": 2,
   "metadata": {},
   "outputs": [],
   "source": [
    "api_token = 'b0713500e58c725213f9e6badbf05bb7'"
   ]
  },
  {
   "cell_type": "code",
   "execution_count": 3,
   "metadata": {},
   "outputs": [],
   "source": [
    "app = Flask(__name__)"
   ]
  },
  {
   "cell_type": "code",
   "execution_count": 4,
   "metadata": {},
   "outputs": [
    {
     "data": {
      "text/plain": [
       "['config.ini']"
      ]
     },
     "execution_count": 4,
     "metadata": {},
     "output_type": "execute_result"
    }
   ],
   "source": [
    "config = configparser.ConfigParser()\n",
    "config.read('config.ini')"
   ]
  },
  {
   "cell_type": "code",
   "execution_count": 5,
   "metadata": {},
   "outputs": [],
   "source": [
    "# Initial bot by Telegram access token\n",
    "bot = telegram.Bot(token=config['TELEGRAM']['ACCESS_TOKEN'])"
   ]
  },
  {
   "cell_type": "code",
   "execution_count": 6,
   "metadata": {},
   "outputs": [],
   "source": [
    "import random\n",
    "from telegram.ext import Updater, CommandHandler, CallbackQueryHandler\n",
    "from telegram import InlineKeyboardMarkup, InlineKeyboardButton"
   ]
  },
  {
   "cell_type": "code",
   "execution_count": 7,
   "metadata": {},
   "outputs": [],
   "source": [
    "a=[0,1,2,3,4]"
   ]
  },
  {
   "cell_type": "code",
   "execution_count": 8,
   "metadata": {},
   "outputs": [
    {
     "data": {
      "text/html": [
       "<div>\n",
       "<style scoped>\n",
       "    .dataframe tbody tr th:only-of-type {\n",
       "        vertical-align: middle;\n",
       "    }\n",
       "\n",
       "    .dataframe tbody tr th {\n",
       "        vertical-align: top;\n",
       "    }\n",
       "\n",
       "    .dataframe thead th {\n",
       "        text-align: right;\n",
       "    }\n",
       "</style>\n",
       "<table border=\"1\" class=\"dataframe\">\n",
       "  <thead>\n",
       "    <tr style=\"text-align: right;\">\n",
       "      <th></th>\n",
       "      <th>at</th>\n",
       "      <th>close</th>\n",
       "      <th>high</th>\n",
       "      <th>low</th>\n",
       "      <th>open</th>\n",
       "      <th>unit</th>\n",
       "      <th>volume</th>\n",
       "    </tr>\n",
       "  </thead>\n",
       "  <tbody>\n",
       "    <tr>\n",
       "      <th>264</th>\n",
       "      <td>2020-04-10 05:30:00+00:00</td>\n",
       "      <td>18.7</td>\n",
       "      <td>18.7</td>\n",
       "      <td>18.7</td>\n",
       "      <td>18.7</td>\n",
       "      <td>357</td>\n",
       "      <td>357000</td>\n",
       "    </tr>\n",
       "  </tbody>\n",
       "</table>\n",
       "</div>"
      ],
      "text/plain": [
       "                           at  close  high   low  open  unit  volume\n",
       "264 2020-04-10 05:30:00+00:00   18.7  18.7  18.7  18.7   357  357000"
      ]
     },
     "execution_count": 8,
     "metadata": {},
     "output_type": "execute_result"
    }
   ],
   "source": [
    "intraday.chart(apiToken=api_token,symbolId=2880,output=\"dataframe\").tail(1)"
   ]
  },
  {
   "cell_type": "code",
   "execution_count": 9,
   "metadata": {},
   "outputs": [],
   "source": [
    "def abc(num):\n",
    "    b=intraday.chart(apiToken=api_token,symbolId=num,output=\"dataframe\").tail(1)\n",
    "    a[0]=str(b['close'].values[0])\n",
    "    a[1]=str(b['high'].values[0])\n",
    "    a[2]=str(b['low'].values[0])\n",
    "    a[3]=str(b['open'].values[0])\n",
    "    a[4]=str(b['volume'].values[0])\n",
    "    print(a)"
   ]
  },
  {
   "cell_type": "code",
   "execution_count": 10,
   "metadata": {},
   "outputs": [
    {
     "name": "stdout",
     "output_type": "stream",
     "text": [
      "['18.7', '18.7', '18.7', '18.7', '357000']\n"
     ]
    }
   ],
   "source": [
    "abc(2880)"
   ]
  },
  {
   "cell_type": "code",
   "execution_count": 11,
   "metadata": {},
   "outputs": [
    {
     "data": {
      "text/plain": [
       "['18.7', '18.7', '18.7', '18.7', '357000']"
      ]
     },
     "execution_count": 11,
     "metadata": {},
     "output_type": "execute_result"
    }
   ],
   "source": [
    "a"
   ]
  },
  {
   "cell_type": "code",
   "execution_count": null,
   "metadata": {},
   "outputs": [
    {
     "name": "stderr",
     "output_type": "stream",
     "text": [
      "D:\\Anaconda\\envs\\fugle\\lib\\site-packages\\ipykernel_launcher.py:13: TelegramDeprecationWarning:\n",
      "\n",
      "Old Handler API is deprecated - see https://git.io/fxJuV for details\n",
      "\n"
     ]
    },
    {
     "name": "stdout",
     "output_type": "stream",
     "text": [
      "['18.7', '18.7', '18.7', '18.7', '357000']\n",
      "['25.85', '25.85', '25.85', '25.85', '1138000']\n"
     ]
    }
   ],
   "source": [
    "def start(bot, update):\n",
    "    update.message.reply_text('請輸入股票號碼')\n",
    "        \n",
    "def answer(bot, update):\n",
    "    text = update.message.text\n",
    "    num = [0]\n",
    "    num[0]=text\n",
    "    abc(num[0])\n",
    "#     f = abc(text)\n",
    "    user_id = update.message.from_user.name\n",
    "    update.message.reply_text(\"股票\"+str(num[0])+\":\\n收盤價:\"+str(a[0])+\"\\n最高價:\"+str(a[1])+\"\\n最低價:\"+str(a[2])+\n",
    "                              \"\\n開盤價:\"+str(a[3])+\"\\n交易量:\"+str(a[4]))\n",
    "updater = Updater('1171780321:AAFIJN4AQUnaNq2HPsZt7XNavcQ1_rvZMHI')\n",
    "\n",
    "updater.dispatcher.add_handler(CommandHandler('start', start))\n",
    "updater.dispatcher.add_handler(MessageHandler(Filters.text, answer))\n",
    "\n",
    "updater.start_polling()\n",
    "updater.idle()"
   ]
  },
  {
   "cell_type": "code",
   "execution_count": null,
   "metadata": {},
   "outputs": [],
   "source": []
  }
 ],
 "metadata": {
  "kernelspec": {
   "display_name": "Python 3",
   "language": "python",
   "name": "python3"
  },
  "language_info": {
   "codemirror_mode": {
    "name": "ipython",
    "version": 3
   },
   "file_extension": ".py",
   "mimetype": "text/x-python",
   "name": "python",
   "nbconvert_exporter": "python",
   "pygments_lexer": "ipython3",
   "version": "3.6.10"
  }
 },
 "nbformat": 4,
 "nbformat_minor": 4
}
